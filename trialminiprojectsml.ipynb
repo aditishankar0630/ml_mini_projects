{
  "nbformat": 4,
  "nbformat_minor": 0,
  "metadata": {
    "colab": {
      "provenance": [],
      "authorship_tag": "ABX9TyNKq+z4S5XYvtzjf8KFes8O",
      "include_colab_link": true
    },
    "kernelspec": {
      "name": "python3",
      "display_name": "Python 3"
    },
    "language_info": {
      "name": "python"
    }
  },
  "cells": [
    {
      "cell_type": "markdown",
      "metadata": {
        "id": "view-in-github",
        "colab_type": "text"
      },
      "source": [
        "<a href=\"https://colab.research.google.com/github/aditishankar0630/ml_mini_projects/blob/main/trialminiprojectsml.ipynb\" target=\"_parent\"><img src=\"https://colab.research.google.com/assets/colab-badge.svg\" alt=\"Open In Colab\"/></a>"
      ]
    },
    {
      "cell_type": "code",
      "execution_count": 1,
      "metadata": {
        "id": "UgfKdM_Kl9X8",
        "colab": {
          "base_uri": "https://localhost:8080/",
          "height": 0
        },
        "outputId": "b36127aa-ff41-4e49-d950-eaf210c503f4"
      },
      "outputs": [
        {
          "output_type": "stream",
          "name": "stdout",
          "text": [
            "Requirement already satisfied: scikit-learn in /usr/local/lib/python3.10/dist-packages (1.5.2)\n",
            "Requirement already satisfied: numpy>=1.19.5 in /usr/local/lib/python3.10/dist-packages (from scikit-learn) (1.26.4)\n",
            "Requirement already satisfied: scipy>=1.6.0 in /usr/local/lib/python3.10/dist-packages (from scikit-learn) (1.13.1)\n",
            "Requirement already satisfied: joblib>=1.2.0 in /usr/local/lib/python3.10/dist-packages (from scikit-learn) (1.4.2)\n",
            "Requirement already satisfied: threadpoolctl>=3.1.0 in /usr/local/lib/python3.10/dist-packages (from scikit-learn) (3.5.0)\n"
          ]
        }
      ],
      "source": [
        "pip install scikit-learn\n"
      ]
    },
    {
      "cell_type": "code",
      "source": [
        " import sklearn\n",
        " from sklearn.datasets import load_breast_cancer\n",
        " data = load_breast_cancer()"
      ],
      "metadata": {
        "id": "LEqkW61VnmQG"
      },
      "execution_count": 9,
      "outputs": []
    },
    {
      "cell_type": "code",
      "source": [
        "# Organize our data\n",
        "label_names = data['target_names']\n",
        "labels = data['target']\n",
        "feature_names = data['feature_names']\n",
        "features = data['data']"
      ],
      "metadata": {
        "id": "kTCW6yXRpDUZ"
      },
      "execution_count": 10,
      "outputs": []
    },
    {
      "cell_type": "code",
      "source": [
        "print(label_names)\n",
        "print(feature_names)"
      ],
      "metadata": {
        "colab": {
          "base_uri": "https://localhost:8080/"
        },
        "id": "xHxICWqRph_z",
        "outputId": "9a9da7a0-fed0-496f-e0fa-a715131bc0c4"
      },
      "execution_count": 11,
      "outputs": [
        {
          "output_type": "stream",
          "name": "stdout",
          "text": [
            "['malignant' 'benign']\n",
            "['mean radius' 'mean texture' 'mean perimeter' 'mean area'\n",
            " 'mean smoothness' 'mean compactness' 'mean concavity'\n",
            " 'mean concave points' 'mean symmetry' 'mean fractal dimension'\n",
            " 'radius error' 'texture error' 'perimeter error' 'area error'\n",
            " 'smoothness error' 'compactness error' 'concavity error'\n",
            " 'concave points error' 'symmetry error' 'fractal dimension error'\n",
            " 'worst radius' 'worst texture' 'worst perimeter' 'worst area'\n",
            " 'worst smoothness' 'worst compactness' 'worst concavity'\n",
            " 'worst concave points' 'worst symmetry' 'worst fractal dimension']\n"
          ]
        }
      ]
    },
    {
      "cell_type": "code",
      "source": [
        "from sklearn.model_selection import train_test_split\n",
        "train, test, train_labels, test_labels = train_test_split(features, labels, test_size = 0.33, random_state = 42)"
      ],
      "metadata": {
        "id": "Mv8DVk1yp3Db"
      },
      "execution_count": 12,
      "outputs": []
    },
    {
      "cell_type": "code",
      "source": [
        "from sklearn.naive_bayes import GaussianNB\n",
        "gnb = GaussianNB()\n",
        "model = gnb.fit(train, train_labels)"
      ],
      "metadata": {
        "id": "u_CH4-dErHQK"
      },
      "execution_count": 13,
      "outputs": []
    },
    {
      "cell_type": "code",
      "source": [
        "predictions = gnb.predict(test)\n",
        "print(predictions)"
      ],
      "metadata": {
        "colab": {
          "base_uri": "https://localhost:8080/"
        },
        "id": "pVhVx8vFrWVZ",
        "outputId": "b3bce559-9de7-4bc1-9549-836315de7bc3"
      },
      "execution_count": 14,
      "outputs": [
        {
          "output_type": "stream",
          "name": "stdout",
          "text": [
            "[1 0 0 1 1 0 0 0 1 1 1 0 1 0 1 0 1 1 1 0 1 1 0 1 1 1 1 1 1 0 1 1 1 1 1 1 0\n",
            " 1 0 1 1 0 1 1 1 1 1 1 1 1 0 0 1 1 1 1 1 0 0 1 1 0 0 1 1 1 0 0 1 1 0 0 1 0\n",
            " 1 1 1 1 1 1 0 1 1 0 0 0 0 0 1 1 1 1 1 1 1 1 0 0 1 0 0 1 0 0 1 1 1 0 1 1 0\n",
            " 1 1 0 0 0 1 1 1 0 0 1 1 0 1 0 0 1 1 0 0 0 1 1 1 0 1 1 0 0 1 0 1 1 0 1 0 0\n",
            " 1 1 1 1 1 1 1 0 0 1 1 1 1 1 1 1 1 1 1 1 1 0 0 1 1 0 1 1 0 1 1 1 1 1 1 0 0\n",
            " 0 1 1]\n"
          ]
        }
      ]
    },
    {
      "cell_type": "code",
      "source": [
        "from sklearn.metrics import accuracy_score\n",
        "print(accuracy_score(test_labels, predictions))"
      ],
      "metadata": {
        "colab": {
          "base_uri": "https://localhost:8080/"
        },
        "id": "4TshOSf6rmrY",
        "outputId": "9b72dcc5-ae5e-4da3-85fd-61449ff08f03"
      },
      "execution_count": 15,
      "outputs": [
        {
          "output_type": "stream",
          "name": "stdout",
          "text": [
            "0.9414893617021277\n"
          ]
        }
      ]
    },
    {
      "cell_type": "code",
      "source": [
        "# import the necessary packages\n",
        "import numpy as np\n",
        "import pandas as pd\n",
        "import matplotlib.pyplot as plt\n",
        "import seaborn as sns\n",
        "from matplotlib import gridspec"
      ],
      "metadata": {
        "id": "u37vRV92RKbU"
      },
      "execution_count": 1,
      "outputs": []
    },
    {
      "cell_type": "code",
      "source": [
        "# Load the dataset from the csv file using pandas\n",
        "# best way is to mount the drive on colab and\n",
        "# copy the path for the csv file\n",
        "data = pd.read_csv(\"creditcard.csv\")"
      ],
      "metadata": {
        "id": "N_veznhYXZen"
      },
      "execution_count": 3,
      "outputs": []
    },
    {
      "cell_type": "code",
      "source": [
        "\n",
        "# Print the shape of the data\n",
        "# data = data.sample(frac = 0.1, random_state = 48)\n",
        "print(data.shape)\n",
        "print(data.describe())"
      ],
      "metadata": {
        "colab": {
          "base_uri": "https://localhost:8080/"
        },
        "id": "sL8U_hQxZTmx",
        "outputId": "48553b5c-2433-47db-f7bd-f1fedd52139b"
      },
      "execution_count": 7,
      "outputs": [
        {
          "output_type": "stream",
          "name": "stdout",
          "text": [
            "(81299, 31)\n",
            "               Time            V1            V2            V3            V4  \\\n",
            "count  81299.000000  81299.000000  81299.000000  81299.000000  81299.000000   \n",
            "mean   37671.743256     -0.259996     -0.038228      0.678460      0.163041   \n",
            "std    15321.247892      1.887739      1.677855      1.382087      1.367118   \n",
            "min        0.000000    -56.407510    -72.715728    -33.680984     -5.172595   \n",
            "25%    30955.500000     -1.021634     -0.601906      0.185895     -0.726028   \n",
            "50%    40336.000000     -0.252322      0.068932      0.764270      0.182495   \n",
            "75%    49589.000000      1.153522      0.720881      1.393621      1.043485   \n",
            "max    58874.000000      1.960497     18.902453      4.226108     16.715537   \n",
            "\n",
            "                 V5            V6            V7            V8            V9  \\\n",
            "count  81299.000000  81298.000000  81298.000000  81298.000000  81298.000000   \n",
            "mean      -0.277528      0.095578     -0.114114      0.053131     -0.012674   \n",
            "std        1.382636      1.305288      1.246442      1.231140      1.142073   \n",
            "min      -42.147898    -26.160506    -31.764946    -73.216718     -9.283925   \n",
            "25%       -0.896884     -0.643360     -0.604699     -0.141178     -0.687309   \n",
            "50%       -0.310828     -0.154462     -0.074285      0.069278     -0.091005   \n",
            "75%        0.257899      0.490814      0.415927      0.350061      0.618942   \n",
            "max       34.801666     22.529298     36.677268     20.007208     10.392889   \n",
            "\n",
            "       ...           V21           V22           V23           V24  \\\n",
            "count  ...  81298.000000  81298.000000  81298.000000  81298.000000   \n",
            "mean   ...     -0.029409     -0.105077     -0.038051      0.008223   \n",
            "std    ...      0.737507      0.635892      0.631322      0.595555   \n",
            "min    ...    -34.830382    -10.933144    -26.751119     -2.836627   \n",
            "25%    ...     -0.224303     -0.524088     -0.178483     -0.322792   \n",
            "50%    ...     -0.058369     -0.080165     -0.050332      0.064261   \n",
            "75%    ...      0.117966      0.310638      0.080561      0.405520   \n",
            "max    ...     22.614889     10.503090     18.946734      4.014444   \n",
            "\n",
            "                V25           V26           V27           V28        Amount  \\\n",
            "count  81298.000000  81298.000000  81298.000000  81298.000000  81298.000000   \n",
            "mean       0.134608      0.026078      0.002159      0.002203     98.097815   \n",
            "std        0.441342      0.497671      0.391031      0.331337    269.610109   \n",
            "min       -7.495741     -2.534330     -9.390980     -9.617915      0.000000   \n",
            "25%       -0.129273     -0.326681     -0.063311     -0.005871      7.680000   \n",
            "50%        0.173145     -0.073286      0.009301      0.022864     26.990000   \n",
            "75%        0.421925      0.306915      0.082382      0.075978     89.715000   \n",
            "max        5.525093      3.517346     12.152401     33.847808  19656.530000   \n",
            "\n",
            "              Class  \n",
            "count  81298.000000  \n",
            "mean       0.002435  \n",
            "std        0.049291  \n",
            "min        0.000000  \n",
            "25%        0.000000  \n",
            "50%        0.000000  \n",
            "75%        0.000000  \n",
            "max        1.000000  \n",
            "\n",
            "[8 rows x 31 columns]\n"
          ]
        }
      ]
    },
    {
      "cell_type": "code",
      "source": [
        "# Determine number of fraud cases in dataset\n",
        "fraud = data[data['Class'] == 1]\n",
        "valid = data[data['Class'] == 0]\n",
        "outlierFraction = len(fraud)/float(len(valid))\n",
        "print(outlierFraction)\n",
        "print('Fraud Cases: {}'.format(len(data[data['Class'] == 1])))\n",
        "print('Valid Transactions: {}'.format(len(data[data['Class'] == 0])))"
      ],
      "metadata": {
        "colab": {
          "base_uri": "https://localhost:8080/"
        },
        "id": "Htv9t9ZFc1Bq",
        "outputId": "083322a3-31c1-42f6-834e-f0df3ae47918"
      },
      "execution_count": 8,
      "outputs": [
        {
          "output_type": "stream",
          "name": "stdout",
          "text": [
            "0.0024414303329223183\n",
            "Fraud Cases: 198\n",
            "Valid Transactions: 81100\n"
          ]
        }
      ]
    },
    {
      "cell_type": "code",
      "source": [
        "print(\"Amount details of the fraudulent transaction\")\n",
        "fraud.Amount.describe()"
      ],
      "metadata": {
        "colab": {
          "base_uri": "https://localhost:8080/",
          "height": 353
        },
        "id": "KvAh6lqIepHZ",
        "outputId": "9ead3f86-ae7f-41bc-b770-3dc89aa6aec0"
      },
      "execution_count": 11,
      "outputs": [
        {
          "output_type": "stream",
          "name": "stdout",
          "text": [
            "Amount details of the fraudulent transaction\n"
          ]
        },
        {
          "output_type": "execute_result",
          "data": {
            "text/plain": [
              "count     198.000000\n",
              "mean       93.992778\n",
              "std       211.099415\n",
              "min         0.000000\n",
              "25%         1.000000\n",
              "50%         6.410000\n",
              "75%        99.990000\n",
              "max      1809.680000\n",
              "Name: Amount, dtype: float64"
            ],
            "text/html": [
              "<div>\n",
              "<style scoped>\n",
              "    .dataframe tbody tr th:only-of-type {\n",
              "        vertical-align: middle;\n",
              "    }\n",
              "\n",
              "    .dataframe tbody tr th {\n",
              "        vertical-align: top;\n",
              "    }\n",
              "\n",
              "    .dataframe thead th {\n",
              "        text-align: right;\n",
              "    }\n",
              "</style>\n",
              "<table border=\"1\" class=\"dataframe\">\n",
              "  <thead>\n",
              "    <tr style=\"text-align: right;\">\n",
              "      <th></th>\n",
              "      <th>Amount</th>\n",
              "    </tr>\n",
              "  </thead>\n",
              "  <tbody>\n",
              "    <tr>\n",
              "      <th>count</th>\n",
              "      <td>198.000000</td>\n",
              "    </tr>\n",
              "    <tr>\n",
              "      <th>mean</th>\n",
              "      <td>93.992778</td>\n",
              "    </tr>\n",
              "    <tr>\n",
              "      <th>std</th>\n",
              "      <td>211.099415</td>\n",
              "    </tr>\n",
              "    <tr>\n",
              "      <th>min</th>\n",
              "      <td>0.000000</td>\n",
              "    </tr>\n",
              "    <tr>\n",
              "      <th>25%</th>\n",
              "      <td>1.000000</td>\n",
              "    </tr>\n",
              "    <tr>\n",
              "      <th>50%</th>\n",
              "      <td>6.410000</td>\n",
              "    </tr>\n",
              "    <tr>\n",
              "      <th>75%</th>\n",
              "      <td>99.990000</td>\n",
              "    </tr>\n",
              "    <tr>\n",
              "      <th>max</th>\n",
              "      <td>1809.680000</td>\n",
              "    </tr>\n",
              "  </tbody>\n",
              "</table>\n",
              "</div><br><label><b>dtype:</b> float64</label>"
            ]
          },
          "metadata": {},
          "execution_count": 11
        }
      ]
    },
    {
      "cell_type": "code",
      "source": [
        "print(\"details of valid transaction\")\n",
        "valid.Amount.describe()"
      ],
      "metadata": {
        "colab": {
          "base_uri": "https://localhost:8080/",
          "height": 353
        },
        "id": "h1o022iefGEz",
        "outputId": "fa741b32-8bda-4434-bc16-89e8d1b439c0"
      },
      "execution_count": 13,
      "outputs": [
        {
          "output_type": "stream",
          "name": "stdout",
          "text": [
            "details of valid transaction\n"
          ]
        },
        {
          "output_type": "execute_result",
          "data": {
            "text/plain": [
              "count    81100.000000\n",
              "mean        98.107837\n",
              "std        269.738371\n",
              "min          0.000000\n",
              "25%          7.730000\n",
              "50%         26.990000\n",
              "75%         89.530000\n",
              "max      19656.530000\n",
              "Name: Amount, dtype: float64"
            ],
            "text/html": [
              "<div>\n",
              "<style scoped>\n",
              "    .dataframe tbody tr th:only-of-type {\n",
              "        vertical-align: middle;\n",
              "    }\n",
              "\n",
              "    .dataframe tbody tr th {\n",
              "        vertical-align: top;\n",
              "    }\n",
              "\n",
              "    .dataframe thead th {\n",
              "        text-align: right;\n",
              "    }\n",
              "</style>\n",
              "<table border=\"1\" class=\"dataframe\">\n",
              "  <thead>\n",
              "    <tr style=\"text-align: right;\">\n",
              "      <th></th>\n",
              "      <th>Amount</th>\n",
              "    </tr>\n",
              "  </thead>\n",
              "  <tbody>\n",
              "    <tr>\n",
              "      <th>count</th>\n",
              "      <td>81100.000000</td>\n",
              "    </tr>\n",
              "    <tr>\n",
              "      <th>mean</th>\n",
              "      <td>98.107837</td>\n",
              "    </tr>\n",
              "    <tr>\n",
              "      <th>std</th>\n",
              "      <td>269.738371</td>\n",
              "    </tr>\n",
              "    <tr>\n",
              "      <th>min</th>\n",
              "      <td>0.000000</td>\n",
              "    </tr>\n",
              "    <tr>\n",
              "      <th>25%</th>\n",
              "      <td>7.730000</td>\n",
              "    </tr>\n",
              "    <tr>\n",
              "      <th>50%</th>\n",
              "      <td>26.990000</td>\n",
              "    </tr>\n",
              "    <tr>\n",
              "      <th>75%</th>\n",
              "      <td>89.530000</td>\n",
              "    </tr>\n",
              "    <tr>\n",
              "      <th>max</th>\n",
              "      <td>19656.530000</td>\n",
              "    </tr>\n",
              "  </tbody>\n",
              "</table>\n",
              "</div><br><label><b>dtype:</b> float64</label>"
            ]
          },
          "metadata": {},
          "execution_count": 13
        }
      ]
    },
    {
      "cell_type": "code",
      "source": [
        "# Correlation matrix\n",
        "corrmat = data.corr()\n",
        "fig = plt.figure(figsize = (12, 9))\n",
        "sns.heatmap(corrmat, vmax = .8, square = True)\n",
        "plt.show()"
      ],
      "metadata": {
        "colab": {
          "base_uri": "https://localhost:8080/",
          "height": 799
        },
        "id": "zQO708qVfRcU",
        "outputId": "953891e6-75a6-413b-fa6d-d985a3536094"
      },
      "execution_count": 14,
      "outputs": [
        {
          "output_type": "display_data",
          "data": {
            "text/plain": [
              "<Figure size 1200x900 with 2 Axes>"
            ],
            "image/png": "[encoded data removed]"
          },
          "metadata": {}
        }
      ]
    },
    {
      "cell_type": "code",
      "source": [
        "X = data.drop(['Class'], axis = 1)\n",
        "Y= data[\"Class\"]\n",
        "print(X.shape)\n",
        "print(Y.shape)\n",
        "xValues = X.values\n",
        "yValues = Y.values"
      ],
      "metadata": {
        "colab": {
          "base_uri": "https://localhost:8080/"
        },
        "id": "8STVf5jNiKqF",
        "outputId": "73b5587b-9109-4780-ffc1-21ea387fc721"
      },
      "execution_count": 15,
      "outputs": [
        {
          "output_type": "stream",
          "name": "stdout",
          "text": [
            "(81299, 30)\n",
            "(81299,)\n"
          ]
        }
      ]
    },
    {
      "cell_type": "code",
      "source": [
        "print(\"Missing values in yValues before split:\", np.isnan(yValues).sum())\n",
        "nan_mask=np.isnan(yValues)\n",
        "xValues=xValues[~nan_mask]\n",
        "yValues=yValues[~nan_mask]"
      ],
      "metadata": {
        "colab": {
          "base_uri": "https://localhost:8080/"
        },
        "id": "N2sxEAOckYI3",
        "outputId": "738043a4-28fe-4247-fe6a-d6f5f3fc1f24"
      },
      "execution_count": 27,
      "outputs": [
        {
          "output_type": "stream",
          "name": "stdout",
          "text": [
            "Missing values in yValues before split: 0\n"
          ]
        }
      ]
    },
    {
      "cell_type": "code",
      "source": [
        "from sklearn.model_selection import train_test_split\n",
        "xtrain, xtest, ytrain, ytest = train_test_split(xValues, yValues, test_size = 0.2, random_state = 42)"
      ],
      "metadata": {
        "id": "mxRN3T1Vkwsf"
      },
      "execution_count": 28,
      "outputs": []
    },
    {
      "cell_type": "code",
      "source": [
        "from sklearn.ensemble import RandomForestClassifier\n",
        "rfc = RandomForestClassifier()\n",
        "rfc.fit(xtrain, ytrain)\n",
        "y_pred = rfc.predict(xtest)"
      ],
      "metadata": {
        "id": "_emGVFvwitb1"
      },
      "execution_count": 30,
      "outputs": []
    },
    {
      "cell_type": "code",
      "source": [
        "from sklearn.metrics import classification_report, accuracy_score\n",
        "from sklearn.metrics import precision_score, recall_score\n",
        "from sklearn.metrics import f1_score, matthews_corrcoef\n",
        "from sklearn.metrics import confusion_matrix\n",
        "n_outliers = len(fraud)\n",
        "n_errors = (y_pred != ytest).sum()\n",
        "print(\"The model used is Random Forest classifier\")\n",
        "acc = accuracy_score(ytest, y_pred)\n",
        "print(\"The accuracy is {}\".format(acc))\n",
        "prec = precision_score(ytest, y_pred)\n",
        "print(\"The precision is {}\".format(prec))\n",
        "\n",
        "rec = recall_score(ytest, y_pred)\n",
        "print(\"The recall is {}\".format(rec))\n",
        "\n",
        "f1 = f1_score(ytest, y_pred)\n",
        "print(\"The F1-Score is {}\".format(f1))\n",
        "\n",
        "MCC = matthews_corrcoef(ytest, y_pred)\n",
        "print(\"The Matthews correlation coefficient is{}\".format(MCC))"
      ],
      "metadata": {
        "colab": {
          "base_uri": "https://localhost:8080/"
        },
        "id": "CaPsaoSwlRUM",
        "outputId": "da28955c-4e3d-4c43-8f54-08a6a3f18cc9"
      },
      "execution_count": 32,
      "outputs": [
        {
          "output_type": "stream",
          "name": "stdout",
          "text": [
            "The model used is Random Forest classifier\n",
            "The accuracy is 0.9993849938499385\n",
            "The precision is 0.9285714285714286\n",
            "The recall is 0.7647058823529411\n",
            "The F1-Score is 0.8387096774193549\n",
            "The Matthews correlation coefficient is0.8423732851549092\n"
          ]
        }
      ]
    }
  ]
}